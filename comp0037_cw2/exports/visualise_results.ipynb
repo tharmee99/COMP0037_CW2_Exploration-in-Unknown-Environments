{
 "cells": [
  {
   "cell_type": "code",
   "execution_count": 1,
   "metadata": {},
   "outputs": [],
   "source": [
    "import pandas as pd\n",
    "import csv\n",
    "\n",
    "import numpy as np \n",
    "import matplotlib\n",
    "import matplotlib.pyplot as plt"
   ]
  },
  {
   "cell_type": "markdown",
   "metadata": {},
   "source": [
    "## Read the data"
   ]
  },
  {
   "cell_type": "code",
   "execution_count": 2,
   "metadata": {},
   "outputs": [],
   "source": [
    "data_task2 = pd.read_csv('results_task2.csv')\n",
    "data_task3 = pd.read_csv('results_task3.csv')"
   ]
  },
  {
   "cell_type": "markdown",
   "metadata": {},
   "source": [
    "## Preprocess data"
   ]
  },
  {
   "cell_type": "code",
   "execution_count": 3,
   "metadata": {},
   "outputs": [],
   "source": [
    "data_task2[['Explorer Algorithm']] = data_task2[['Explorer Algorithm']].replace({0:'Original baseline explorer',\n",
    "                                 1:'Wavefront Frontier Detector Algorithm'})\n",
    "data_task2 = data_task2.sort_values('Explorer Algorithm')\n",
    "\n",
    "data_task3[['Explorer Algorithm']] = data_task3[['Explorer Algorithm']].replace({0:'Original baseline explorer',\n",
    "                                 1:'Wavefront Frontier Detector Algorithm'})\n",
    "data_task3 = data_task3.sort_values('Explorer Algorithm')"
   ]
  },
  {
   "cell_type": "code",
   "execution_count": 4,
   "metadata": {},
   "outputs": [
    {
     "data": {
      "text/html": [
       "<div>\n",
       "<style scoped>\n",
       "    .dataframe tbody tr th:only-of-type {\n",
       "        vertical-align: middle;\n",
       "    }\n",
       "\n",
       "    .dataframe tbody tr th {\n",
       "        vertical-align: top;\n",
       "    }\n",
       "\n",
       "    .dataframe thead th {\n",
       "        text-align: right;\n",
       "    }\n",
       "</style>\n",
       "<table border=\"1\" class=\"dataframe\">\n",
       "  <thead>\n",
       "    <tr style=\"text-align: right;\">\n",
       "      <th></th>\n",
       "      <th>Explorer Algorithm</th>\n",
       "      <th>Coverage</th>\n",
       "      <th>Time Taken to Explore</th>\n",
       "      <th>ROS Time Scale Factor</th>\n",
       "      <th>Start/End Validated by Search Grid</th>\n",
       "    </tr>\n",
       "  </thead>\n",
       "  <tbody>\n",
       "    <tr>\n",
       "      <th>0</th>\n",
       "      <td>Original baseline explorer</td>\n",
       "      <td>0.782533</td>\n",
       "      <td>1422.048644</td>\n",
       "      <td>2</td>\n",
       "      <td>True</td>\n",
       "    </tr>\n",
       "    <tr>\n",
       "      <th>1</th>\n",
       "      <td>Wavefront Frontier Detector Algorithm</td>\n",
       "      <td>0.782133</td>\n",
       "      <td>1264.948794</td>\n",
       "      <td>2</td>\n",
       "      <td>True</td>\n",
       "    </tr>\n",
       "  </tbody>\n",
       "</table>\n",
       "</div>"
      ],
      "text/plain": [
       "                      Explorer Algorithm  Coverage  Time Taken to Explore  \\\n",
       "0             Original baseline explorer  0.782533            1422.048644   \n",
       "1  Wavefront Frontier Detector Algorithm  0.782133            1264.948794   \n",
       "\n",
       "   ROS Time Scale Factor  Start/End Validated by Search Grid  \n",
       "0                      2                                True  \n",
       "1                      2                                True  "
      ]
     },
     "execution_count": 4,
     "metadata": {},
     "output_type": "execute_result"
    }
   ],
   "source": [
    "data_task2"
   ]
  },
  {
   "cell_type": "code",
   "execution_count": 5,
   "metadata": {},
   "outputs": [
    {
     "data": {
      "text/html": [
       "<div>\n",
       "<style scoped>\n",
       "    .dataframe tbody tr th:only-of-type {\n",
       "        vertical-align: middle;\n",
       "    }\n",
       "\n",
       "    .dataframe tbody tr th {\n",
       "        vertical-align: top;\n",
       "    }\n",
       "\n",
       "    .dataframe thead th {\n",
       "        text-align: right;\n",
       "    }\n",
       "</style>\n",
       "<table border=\"1\" class=\"dataframe\">\n",
       "  <thead>\n",
       "    <tr style=\"text-align: right;\">\n",
       "      <th></th>\n",
       "      <th>Explorer Algorithm</th>\n",
       "      <th>Coverage</th>\n",
       "      <th>Time Taken to Explore</th>\n",
       "      <th>ROS Time Scale Factor</th>\n",
       "      <th>Start/End Validated by Search Grid</th>\n",
       "    </tr>\n",
       "  </thead>\n",
       "  <tbody>\n",
       "    <tr>\n",
       "      <th>1</th>\n",
       "      <td>Original baseline explorer</td>\n",
       "      <td>0.780800</td>\n",
       "      <td>1892.598195</td>\n",
       "      <td>2</td>\n",
       "      <td>NaN</td>\n",
       "    </tr>\n",
       "    <tr>\n",
       "      <th>2</th>\n",
       "      <td>Original baseline explorer</td>\n",
       "      <td>0.780133</td>\n",
       "      <td>1583.506041</td>\n",
       "      <td>1</td>\n",
       "      <td>NaN</td>\n",
       "    </tr>\n",
       "    <tr>\n",
       "      <th>0</th>\n",
       "      <td>Wavefront Frontier Detector Algorithm</td>\n",
       "      <td>0.783067</td>\n",
       "      <td>1411.198654</td>\n",
       "      <td>2</td>\n",
       "      <td>NaN</td>\n",
       "    </tr>\n",
       "    <tr>\n",
       "      <th>3</th>\n",
       "      <td>Wavefront Frontier Detector Algorithm</td>\n",
       "      <td>0.781067</td>\n",
       "      <td>1506.605747</td>\n",
       "      <td>1</td>\n",
       "      <td>NaN</td>\n",
       "    </tr>\n",
       "  </tbody>\n",
       "</table>\n",
       "</div>"
      ],
      "text/plain": [
       "                      Explorer Algorithm  Coverage  Time Taken to Explore  \\\n",
       "1             Original baseline explorer  0.780800            1892.598195   \n",
       "2             Original baseline explorer  0.780133            1583.506041   \n",
       "0  Wavefront Frontier Detector Algorithm  0.783067            1411.198654   \n",
       "3  Wavefront Frontier Detector Algorithm  0.781067            1506.605747   \n",
       "\n",
       "   ROS Time Scale Factor  Start/End Validated by Search Grid  \n",
       "1                      2                                 NaN  \n",
       "2                      1                                 NaN  \n",
       "0                      2                                 NaN  \n",
       "3                      1                                 NaN  "
      ]
     },
     "execution_count": 5,
     "metadata": {},
     "output_type": "execute_result"
    }
   ],
   "source": [
    "data_task3"
   ]
  },
  {
   "cell_type": "code",
   "execution_count": 6,
   "metadata": {},
   "outputs": [
    {
     "data": {
      "text/html": [
       "<div>\n",
       "<style scoped>\n",
       "    .dataframe tbody tr th:only-of-type {\n",
       "        vertical-align: middle;\n",
       "    }\n",
       "\n",
       "    .dataframe tbody tr th {\n",
       "        vertical-align: top;\n",
       "    }\n",
       "\n",
       "    .dataframe thead th {\n",
       "        text-align: right;\n",
       "    }\n",
       "</style>\n",
       "<table border=\"1\" class=\"dataframe\">\n",
       "  <thead>\n",
       "    <tr style=\"text-align: right;\">\n",
       "      <th></th>\n",
       "      <th>Explorer Algorithm</th>\n",
       "      <th>Coverage</th>\n",
       "      <th>Time Taken to Explore</th>\n",
       "      <th>ROS Time Scale Factor</th>\n",
       "      <th>Start/End Validated by Search Grid</th>\n",
       "    </tr>\n",
       "  </thead>\n",
       "  <tbody>\n",
       "    <tr>\n",
       "      <th>1</th>\n",
       "      <td>Original baseline explorer</td>\n",
       "      <td>0.780800</td>\n",
       "      <td>1892.598195</td>\n",
       "      <td>2</td>\n",
       "      <td>NaN</td>\n",
       "    </tr>\n",
       "    <tr>\n",
       "      <th>0</th>\n",
       "      <td>Wavefront Frontier Detector Algorithm</td>\n",
       "      <td>0.783067</td>\n",
       "      <td>1411.198654</td>\n",
       "      <td>2</td>\n",
       "      <td>NaN</td>\n",
       "    </tr>\n",
       "  </tbody>\n",
       "</table>\n",
       "</div>"
      ],
      "text/plain": [
       "                      Explorer Algorithm  Coverage  Time Taken to Explore  \\\n",
       "1             Original baseline explorer  0.780800            1892.598195   \n",
       "0  Wavefront Frontier Detector Algorithm  0.783067            1411.198654   \n",
       "\n",
       "   ROS Time Scale Factor  Start/End Validated by Search Grid  \n",
       "1                      2                                 NaN  \n",
       "0                      2                                 NaN  "
      ]
     },
     "execution_count": 6,
     "metadata": {},
     "output_type": "execute_result"
    }
   ],
   "source": [
    "tsf2_task3 = data_task3.loc[data_task3['ROS Time Scale Factor'] == 2]\n",
    "tsf2_task3"
   ]
  },
  {
   "cell_type": "markdown",
   "metadata": {},
   "source": [
    "## Part 2 Results"
   ]
  },
  {
   "cell_type": "code",
   "execution_count": 7,
   "metadata": {},
   "outputs": [
    {
     "data": {
      "image/png": "[encoded data removed]",
      "text/plain": [
       "<Figure size 1008x288 with 2 Axes>"
      ]
     },
     "metadata": {
      "needs_background": "light"
     },
     "output_type": "display_data"
    }
   ],
   "source": [
    "fig, ax = plt.subplots(1,2,figsize=(14,4))\n",
    "\n",
    "ax[0].bar(data_task2['Explorer Algorithm'], data_task2['Time Taken to Explore']/60)\n",
    "ax[0].set_title('Time Taken to Explore',fontsize=16,fontweight='bold')\n",
    "ax[0].set_xlabel('Algorithm',fontsize=12,fontweight='bold')\n",
    "ax[0].set_ylabel('Time (in minutes)',fontsize=12,fontweight='bold')\n",
    "\n",
    "ax[1].bar(data_task2['Explorer Algorithm'], data_task2['Coverage']*100)\n",
    "ax[1].set_title('Map Coverage',fontsize=16,fontweight='bold')\n",
    "ax[1].set_xlabel('Algorithm',fontsize=12,fontweight='bold')\n",
    "ax[1].set_ylabel('Coverage (in %)',fontsize=12,fontweight='bold')\n",
    "ax[1].yaxis.set_major_formatter(matplotlib.ticker.FormatStrFormatter('%d%%'))\n",
    "\n",
    "plt.suptitle('',fontsize=25,fontweight='bold',y=0.95)\n",
    "\n",
    "plt.savefig('Part2.png')"
   ]
  },
  {
   "cell_type": "code",
   "execution_count": 8,
   "metadata": {},
   "outputs": [
    {
     "name": "stdout",
     "output_type": "stream",
     "text": [
      "Index([], dtype='object')\n",
      "['ROS Time Scale Factor']\n"
     ]
    }
   ],
   "source": [
    "s = data_task3.iloc[0]        \n",
    "a = s.index[s == 1]\n",
    "print (a)\n",
    "\n",
    "a = s.index.values[(s == 2)]\n",
    "print (a)"
   ]
  },
  {
   "cell_type": "markdown",
   "metadata": {},
   "source": [
    "## Part 3 Results"
   ]
  },
  {
   "cell_type": "code",
   "execution_count": 9,
   "metadata": {},
   "outputs": [
    {
     "data": {
      "image/png": "[encoded data removed]",
      "text/plain": [
       "<Figure size 1008x288 with 2 Axes>"
      ]
     },
     "metadata": {
      "needs_background": "light"
     },
     "output_type": "display_data"
    }
   ],
   "source": [
    "fig, ax = plt.subplots(1,2,figsize=(14,4))\n",
    "\n",
    "ax[0].bar(tsf2_task3['Explorer Algorithm'], tsf2_task3['Time Taken to Explore']/60)\n",
    "ax[0].set_title('Time Taken to Explore',fontsize=16,fontweight='bold')\n",
    "ax[0].set_xlabel('Algorithm',fontsize=12,fontweight='bold')\n",
    "ax[0].set_ylabel('Time (in minutes)',fontsize=12,fontweight='bold')\n",
    "\n",
    "ax[1].bar(tsf2_task3['Explorer Algorithm'], tsf2_task3['Coverage']*100)\n",
    "ax[1].set_title('Map Coverage',fontsize=16,fontweight='bold')\n",
    "ax[1].set_xlabel('Algorithm',fontsize=12,fontweight='bold')\n",
    "ax[1].set_ylabel('Coverage (in %)',fontsize=12,fontweight='bold')\n",
    "ax[1].yaxis.set_major_formatter(matplotlib.ticker.FormatStrFormatter('%d%%'))\n",
    "\n",
    "plt.suptitle('',fontsize=25,fontweight='bold',y=0.95)\n",
    "\n",
    "plt.savefig('Part3.png')"
   ]
  },
  {
   "cell_type": "markdown",
   "metadata": {},
   "source": [
    "## Entropy plots"
   ]
  },
  {
   "cell_type": "code",
   "execution_count": 10,
   "metadata": {},
   "outputs": [],
   "source": [
    "with open('entropy_task3_baseline_TSF2.csv') as csvfile:\n",
    "    readCSV = csv.reader(csvfile, delimiter=',')\n",
    "    for row in readCSV:\n",
    "        data_wfd=row\n",
    "data_wfd=[float(i) for i in data_wfd[:-1]]"
   ]
  },
  {
   "cell_type": "code",
   "execution_count": 11,
   "metadata": {},
   "outputs": [],
   "source": [
    "with open('entropy_task3_WFD_TSF2.csv') as csvfile:\n",
    "    readCSV = csv.reader(csvfile, delimiter=',')\n",
    "    for row in readCSV:\n",
    "        data_baseline=row\n",
    "data_baseline=[float(i) for i in data_baseline[:-1]]"
   ]
  },
  {
   "cell_type": "code",
   "execution_count": 12,
   "metadata": {},
   "outputs": [
    {
     "data": {
      "image/png": "[encoded data removed]",
      "text/plain": [
       "<Figure size 576x432 with 1 Axes>"
      ]
     },
     "metadata": {
      "needs_background": "light"
     },
     "output_type": "display_data"
    }
   ],
   "source": [
    "fig = plt.figure(figsize=(8,6))\n",
    "x1=np.arange(0,len(data_baseline)*5,5)\n",
    "plt.plot(x1,data_baseline,linewidth=1.4)\n",
    "x2=np.arange(0,len(data_wfd)*5,5)\n",
    "plt.plot(x2,data_wfd,linewidth=1.4)\n",
    "plt.xlabel('Time (in s)',fontsize=12,fontweight='bold')\n",
    "plt.ylabel('Entropy',fontsize=12,fontweight='bold')\n",
    "plt.title('Comparison for Entropy Change for Different Algorithms',fontsize=16,fontweight='bold')\n",
    "plt.savefig('EntropyChange.png')"
   ]
  },
  {
   "cell_type": "code",
   "execution_count": null,
   "metadata": {},
   "outputs": [],
   "source": []
  }
 ],
 "metadata": {
  "file_extension": ".py",
  "kernelspec": {
   "display_name": "Python 2",
   "language": "python",
   "name": "python2"
  },
  "language_info": {
   "codemirror_mode": {
    "name": "ipython",
    "version": 2
   },
   "file_extension": ".py",
   "mimetype": "text/x-python",
   "name": "python",
   "nbconvert_exporter": "python",
   "pygments_lexer": "ipython2",
   "version": "2.7.17"
  },
  "mimetype": "text/x-python",
  "name": "python",
  "npconvert_exporter": "python",
  "pygments_lexer": "ipython2",
  "version": 2
 },
 "nbformat": 4,
 "nbformat_minor": 2
}
